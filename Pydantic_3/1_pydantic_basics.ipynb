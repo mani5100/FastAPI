{
 "cells": [
  {
   "cell_type": "code",
   "execution_count": 1,
   "id": "b08d4b71",
   "metadata": {},
   "outputs": [],
   "source": [
    "from pydantic import BaseModel"
   ]
  },
  {
   "cell_type": "code",
   "execution_count": 2,
   "id": "33037b90",
   "metadata": {},
   "outputs": [],
   "source": [
    "class Patient(BaseModel):\n",
    "    name:str\n",
    "    age:int"
   ]
  },
  {
   "cell_type": "code",
   "execution_count": 16,
   "id": "0a9a26c8",
   "metadata": {},
   "outputs": [],
   "source": [
    "patient1={\n",
    "    'name':\"abdul\",\n",
    "    \"age\":23\n",
    "}\n",
    "py_patient1=Patient(**patient1)"
   ]
  },
  {
   "cell_type": "code",
   "execution_count": null,
   "id": "f0047cef",
   "metadata": {},
   "outputs": [
    {
     "name": "stdout",
     "output_type": "stream",
     "text": [
      "abdul\n",
      "23\n",
      "Patient added successfully\n"
     ]
    }
   ],
   "source": [
    "def insert_into_DB(patient:Patient):\n",
    "    #assume we use this function add name and age into database\n",
    "    print(patient.name) \n",
    "    print(patient.age) \n",
    "    print(\"Patient added successfully\") \n",
    "insert_into_DB(py_patient1)"
   ]
  },
  {
   "cell_type": "markdown",
   "id": "a572f3bc",
   "metadata": {},
   "source": [
    "As we can see by pydantic now we dont need to perform validation in each function"
   ]
  },
  {
   "cell_type": "code",
   "execution_count": 14,
   "id": "dba68dfa",
   "metadata": {},
   "outputs": [
    {
     "name": "stdout",
     "output_type": "stream",
     "text": [
      "abdul\n",
      "23\n",
      "Patient Updated successfully\n"
     ]
    }
   ],
   "source": [
    "def Update_in_DB(patient:Patient):\n",
    "    #assume we use this function to update name and age in database\n",
    "    print(patient.name) \n",
    "    print(patient.age) \n",
    "    print(\"Patient Updated successfully\") \n",
    "Update_in_DB(py_patient1)"
   ]
  }
 ],
 "metadata": {
  "kernelspec": {
   "display_name": "fastvenv",
   "language": "python",
   "name": "python3"
  },
  "language_info": {
   "codemirror_mode": {
    "name": "ipython",
    "version": 3
   },
   "file_extension": ".py",
   "mimetype": "text/x-python",
   "name": "python",
   "nbconvert_exporter": "python",
   "pygments_lexer": "ipython3",
   "version": "3.13.5"
  }
 },
 "nbformat": 4,
 "nbformat_minor": 5
}
