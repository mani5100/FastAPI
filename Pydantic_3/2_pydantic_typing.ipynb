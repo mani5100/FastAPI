{
 "cells": [
  {
   "cell_type": "code",
   "execution_count": 2,
   "id": "0c4eb2bc",
   "metadata": {},
   "outputs": [],
   "source": [
    "from pydantic import BaseModel\n",
    "from typing import List, Dict"
   ]
  },
  {
   "cell_type": "code",
   "execution_count": 8,
   "id": "39f675a9",
   "metadata": {},
   "outputs": [],
   "source": [
    "class Patient(BaseModel):\n",
    "    name:str\n",
    "    age:int\n",
    "    married:bool\n",
    "    bmi:float\n",
    "    allergies:List[str]\n",
    "    contact:Dict[str,str]"
   ]
  },
  {
   "cell_type": "code",
   "execution_count": 10,
   "id": "ddc00550",
   "metadata": {},
   "outputs": [],
   "source": [
    "Patient1={\n",
    "    \"name\":\"abdul\",\n",
    "    \"age\":23,\n",
    "    \"married\":False,\n",
    "    \"bmi\":33.3,\n",
    "    \"allergies\":[\"dust\",\"pollen\"],\n",
    "    \"contact\":{\"email\":\"abc@gmail.com\",\"phone\":\"0300xxxxxxx\"}\n",
    "}\n",
    "py_patient=Patient(**Patient1)"
   ]
  },
  {
   "cell_type": "code",
   "execution_count": 18,
   "id": "24ad95d9",
   "metadata": {},
   "outputs": [
    {
     "name": "stdout",
     "output_type": "stream",
     "text": [
      "Name:  abdul\n",
      "Age:  23\n",
      "Married:  False\n",
      "BMI:  33.3\n",
      "Allergies\n",
      "1:  dust\n",
      "2:  pollen\n",
      "Contact Info\n",
      "1:  email -> abc@gmail.com\n",
      "2:  phone -> 0300xxxxxxx\n"
     ]
    }
   ],
   "source": [
    "def insert(patient:Patient):\n",
    "    print(\"Name: \",patient.name)\n",
    "    print(\"Age: \",patient.age)\n",
    "    print(\"Married: \",patient.married)\n",
    "    print(\"BMI: \",patient.bmi)\n",
    "    print(\"Allergies\")\n",
    "    for i,allergy in enumerate(patient.allergies):\n",
    "        print(f\"{i+1}: \",allergy)\n",
    "    print(\"Contact Info\")\n",
    "    for i,key in enumerate(patient.contact.keys()):\n",
    "        print(f\"{i+1}: \",key,\"->\",patient.contact[key])\n",
    "insert(py_patient)\n"
   ]
  }
 ],
 "metadata": {
  "kernelspec": {
   "display_name": "fastvenv",
   "language": "python",
   "name": "python3"
  },
  "language_info": {
   "codemirror_mode": {
    "name": "ipython",
    "version": 3
   },
   "file_extension": ".py",
   "mimetype": "text/x-python",
   "name": "python",
   "nbconvert_exporter": "python",
   "pygments_lexer": "ipython3",
   "version": "3.13.5"
  }
 },
 "nbformat": 4,
 "nbformat_minor": 5
}
