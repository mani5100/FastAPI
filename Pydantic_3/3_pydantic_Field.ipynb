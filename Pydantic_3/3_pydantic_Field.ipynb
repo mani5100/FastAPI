{
 "cells": [
  {
   "cell_type": "code",
   "execution_count": null,
   "id": "770fb568",
   "metadata": {},
   "outputs": [
    {
     "name": "stdout",
     "output_type": "stream",
     "text": [
      "Requirement already satisfied: pydantic[email] in e:\\2. fastapi\\tutorials\\fastvenv\\lib\\site-packages (2.11.7)\n",
      "Requirement already satisfied: annotated-types>=0.6.0 in e:\\2. fastapi\\tutorials\\fastvenv\\lib\\site-packages (from pydantic[email]) (0.7.0)\n",
      "Requirement already satisfied: pydantic-core==2.33.2 in e:\\2. fastapi\\tutorials\\fastvenv\\lib\\site-packages (from pydantic[email]) (2.33.2)\n",
      "Requirement already satisfied: typing-extensions>=4.12.2 in e:\\2. fastapi\\tutorials\\fastvenv\\lib\\site-packages (from pydantic[email]) (4.14.1)\n",
      "Requirement already satisfied: typing-inspection>=0.4.0 in e:\\2. fastapi\\tutorials\\fastvenv\\lib\\site-packages (from pydantic[email]) (0.4.1)\n",
      "Collecting email-validator>=2.0.0 (from pydantic[email])\n",
      "  Downloading email_validator-2.2.0-py3-none-any.whl.metadata (25 kB)\n",
      "Collecting dnspython>=2.0.0 (from email-validator>=2.0.0->pydantic[email])\n",
      "  Downloading dnspython-2.7.0-py3-none-any.whl.metadata (5.8 kB)\n",
      "Requirement already satisfied: idna>=2.0.0 in e:\\2. fastapi\\tutorials\\fastvenv\\lib\\site-packages (from email-validator>=2.0.0->pydantic[email]) (3.10)\n",
      "Downloading email_validator-2.2.0-py3-none-any.whl (33 kB)\n",
      "Downloading dnspython-2.7.0-py3-none-any.whl (313 kB)\n",
      "Installing collected packages: dnspython, email-validator\n",
      "\n",
      "   ---------------------------------------- 0/2 [dnspython]\n",
      "   ---------------------------------------- 0/2 [dnspython]\n",
      "   ---------------------------------------- 0/2 [dnspython]\n",
      "   ---------------------------------------- 0/2 [dnspython]\n",
      "   ---------------------------------------- 0/2 [dnspython]\n",
      "   ---------------------------------------- 0/2 [dnspython]\n",
      "   ---------------------------------------- 0/2 [dnspython]\n",
      "   ---------------------------------------- 0/2 [dnspython]\n",
      "   ---------------------------------------- 0/2 [dnspython]\n",
      "   ---------------------------------------- 0/2 [dnspython]\n",
      "   ---------------------------------------- 0/2 [dnspython]\n",
      "   ---------------------------------------- 0/2 [dnspython]\n",
      "   ---------------------------------------- 0/2 [dnspython]\n",
      "   ---------------------------------------- 0/2 [dnspython]\n",
      "   ---------------------------------------- 0/2 [dnspython]\n",
      "   ---------------------------------------- 0/2 [dnspython]\n",
      "   ---------------------------------------- 0/2 [dnspython]\n",
      "   ---------------------------------------- 0/2 [dnspython]\n",
      "   ---------------------------------------- 0/2 [dnspython]\n",
      "   ---------------------------------------- 0/2 [dnspython]\n",
      "   ---------------------------------------- 0/2 [dnspython]\n",
      "   ---------------------------------------- 0/2 [dnspython]\n",
      "   ---------------------------------------- 0/2 [dnspython]\n",
      "   -------------------- ------------------- 1/2 [email-validator]\n",
      "   -------------------- ------------------- 1/2 [email-validator]\n",
      "   -------------------- ------------------- 1/2 [email-validator]\n",
      "   -------------------- ------------------- 1/2 [email-validator]\n",
      "   ---------------------------------------- 2/2 [email-validator]\n",
      "\n",
      "Successfully installed dnspython-2.7.0 email-validator-2.2.0\n",
      "Note: you may need to restart the kernel to use updated packages.\n"
     ]
    }
   ],
   "source": [
    "%pip install pydantic[email]"
   ]
  },
  {
   "cell_type": "code",
   "execution_count": 9,
   "id": "9afef46f",
   "metadata": {},
   "outputs": [],
   "source": [
    "from pydantic import BaseModel,EmailStr,AnyUrl,Field\n",
    "from typing import Optional,Annotated, List"
   ]
  },
  {
   "cell_type": "code",
   "execution_count": 27,
   "id": "a809e0e2",
   "metadata": {},
   "outputs": [],
   "source": [
    "class Student(BaseModel):\n",
    "    name:str\n",
    "    email:EmailStr\n",
    "    marks:Annotated[Optional[int],Field(strict=True)]=0\n",
    "    married:bool=False\n",
    "    linkedin:AnyUrl\n",
    "    age:int=Field(gt=0)\n",
    "    allergies:Annotated[Optional[List[str]],Field(title=\"Allergies\",description=\"List max 5 allergies\", max_length=5)]=None\n",
    "Student1={\n",
    "    \"name\":\"abdul\",\n",
    "    \"email\":\"abd@gmail.com\",\n",
    "    \"marks\":95,\n",
    "    \"linkedin\":\"https://www.linkedin.com/in/abdul-rehman-268b85272/\",\n",
    "    \"age\":23\n",
    "}"
   ]
  },
  {
   "cell_type": "code",
   "execution_count": 28,
   "id": "c9c275e2",
   "metadata": {},
   "outputs": [],
   "source": [
    "py_stu1=Student(**Student1)"
   ]
  }
 ],
 "metadata": {
  "kernelspec": {
   "display_name": "fastvenv",
   "language": "python",
   "name": "python3"
  },
  "language_info": {
   "codemirror_mode": {
    "name": "ipython",
    "version": 3
   },
   "file_extension": ".py",
   "mimetype": "text/x-python",
   "name": "python",
   "nbconvert_exporter": "python",
   "pygments_lexer": "ipython3",
   "version": "3.13.5"
  }
 },
 "nbformat": 4,
 "nbformat_minor": 5
}
