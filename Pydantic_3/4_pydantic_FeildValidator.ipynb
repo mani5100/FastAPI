{
 "cells": [
  {
   "cell_type": "code",
   "execution_count": 7,
   "id": "d3688b8e",
   "metadata": {},
   "outputs": [],
   "source": [
    "from pydantic import BaseModel, field_validator"
   ]
  },
  {
   "cell_type": "code",
   "execution_count": null,
   "id": "f879bbb9",
   "metadata": {},
   "outputs": [],
   "source": [
    "class Student(BaseModel):\n",
    "    name:str\n",
    "    email:str\n",
    "    @field_validator('email',mode=\"after\")#This tells value will be given after type coercin. This is\n",
    "    # default behaviour. Other one is before.\n",
    "    @classmethod\n",
    "    def email_validator(cls,value):\n",
    "        valid_email=[\"sharif.com\",\"shoukat.com\"]\n",
    "        domain=value.split('@')[-1]\n",
    "        if domain not in valid_email:\n",
    "            raise ValueError(\"Invalid Email\")\n",
    "        return value\n",
    "    @field_validator('name')\n",
    "    @classmethod\n",
    "    def name_capitalize(cls,value):\n",
    "        return value.capitalize()\n"
   ]
  },
  {
   "cell_type": "code",
   "execution_count": null,
   "id": "5a83db4b",
   "metadata": {},
   "outputs": [
    {
     "ename": "ValidationError",
     "evalue": "1 validation error for Student\nemail\n  Value error, Invalid Email [type=value_error, input_value='abdul@gmail.com', input_type=str]\n    For further information visit https://errors.pydantic.dev/2.11/v/value_error",
     "output_type": "error",
     "traceback": [
      "\u001b[31m---------------------------------------------------------------------------\u001b[39m",
      "\u001b[31mValidationError\u001b[39m                           Traceback (most recent call last)",
      "\u001b[36mCell\u001b[39m\u001b[36m \u001b[39m\u001b[32mIn[11]\u001b[39m\u001b[32m, line 5\u001b[39m\n\u001b[32m      1\u001b[39m stu1={\n\u001b[32m      2\u001b[39m     \u001b[33m\"\u001b[39m\u001b[33mname\u001b[39m\u001b[33m\"\u001b[39m:\u001b[33m\"\u001b[39m\u001b[33mAbdul\u001b[39m\u001b[33m\"\u001b[39m,\n\u001b[32m      3\u001b[39m     \u001b[33m\"\u001b[39m\u001b[33memail\u001b[39m\u001b[33m\"\u001b[39m:\u001b[33m\"\u001b[39m\u001b[33mabdul@gmail.com\u001b[39m\u001b[33m\"\u001b[39m\n\u001b[32m      4\u001b[39m }\n\u001b[32m----> \u001b[39m\u001b[32m5\u001b[39m py_stu=\u001b[43mStudent\u001b[49m\u001b[43m(\u001b[49m\u001b[43m*\u001b[49m\u001b[43m*\u001b[49m\u001b[43mstu1\u001b[49m\u001b[43m)\u001b[49m\n",
      "\u001b[36mFile \u001b[39m\u001b[32me:\\2. FastApi\\Tutorials\\fastvenv\\Lib\\site-packages\\pydantic\\main.py:253\u001b[39m, in \u001b[36mBaseModel.__init__\u001b[39m\u001b[34m(self, **data)\u001b[39m\n\u001b[32m    251\u001b[39m \u001b[38;5;66;03m# `__tracebackhide__` tells pytest and some other tools to omit this function from tracebacks\u001b[39;00m\n\u001b[32m    252\u001b[39m __tracebackhide__ = \u001b[38;5;28;01mTrue\u001b[39;00m\n\u001b[32m--> \u001b[39m\u001b[32m253\u001b[39m validated_self = \u001b[38;5;28;43mself\u001b[39;49m\u001b[43m.\u001b[49m\u001b[43m__pydantic_validator__\u001b[49m\u001b[43m.\u001b[49m\u001b[43mvalidate_python\u001b[49m\u001b[43m(\u001b[49m\u001b[43mdata\u001b[49m\u001b[43m,\u001b[49m\u001b[43m \u001b[49m\u001b[43mself_instance\u001b[49m\u001b[43m=\u001b[49m\u001b[38;5;28;43mself\u001b[39;49m\u001b[43m)\u001b[49m\n\u001b[32m    254\u001b[39m \u001b[38;5;28;01mif\u001b[39;00m \u001b[38;5;28mself\u001b[39m \u001b[38;5;129;01mis\u001b[39;00m \u001b[38;5;129;01mnot\u001b[39;00m validated_self:\n\u001b[32m    255\u001b[39m     warnings.warn(\n\u001b[32m    256\u001b[39m         \u001b[33m'\u001b[39m\u001b[33mA custom validator is returning a value other than `self`.\u001b[39m\u001b[38;5;130;01m\\n\u001b[39;00m\u001b[33m'\u001b[39m\n\u001b[32m    257\u001b[39m         \u001b[33m\"\u001b[39m\u001b[33mReturning anything other than `self` from a top level model validator isn\u001b[39m\u001b[33m'\u001b[39m\u001b[33mt supported when validating via `__init__`.\u001b[39m\u001b[38;5;130;01m\\n\u001b[39;00m\u001b[33m\"\u001b[39m\n\u001b[32m    258\u001b[39m         \u001b[33m'\u001b[39m\u001b[33mSee the `model_validator` docs (https://docs.pydantic.dev/latest/concepts/validators/#model-validators) for more details.\u001b[39m\u001b[33m'\u001b[39m,\n\u001b[32m    259\u001b[39m         stacklevel=\u001b[32m2\u001b[39m,\n\u001b[32m    260\u001b[39m     )\n",
      "\u001b[31mValidationError\u001b[39m: 1 validation error for Student\nemail\n  Value error, Invalid Email [type=value_error, input_value='abdul@gmail.com', input_type=str]\n    For further information visit https://errors.pydantic.dev/2.11/v/value_error"
     ]
    }
   ],
   "source": [
    "stu1={\n",
    "    \"name\":\"abdul\",\n",
    "    \"email\":\"abdul@gmail.com\"\n",
    "}\n",
    "py_stu=Student(**stu1)"
   ]
  },
  {
   "cell_type": "code",
   "execution_count": 21,
   "id": "9ced97c2",
   "metadata": {},
   "outputs": [],
   "source": [
    "stu1={\n",
    "    \"name\":\"abdul\",\n",
    "    \"email\":\"abdul@sharif.com\"\n",
    "}\n",
    "py_stu=Student(**stu1)"
   ]
  },
  {
   "cell_type": "code",
   "execution_count": 22,
   "id": "411f3a22",
   "metadata": {},
   "outputs": [
    {
     "data": {
      "text/plain": [
       "'Abdul'"
      ]
     },
     "execution_count": 22,
     "metadata": {},
     "output_type": "execute_result"
    }
   ],
   "source": [
    "py_stu.name"
   ]
  }
 ],
 "metadata": {
  "kernelspec": {
   "display_name": "fastvenv",
   "language": "python",
   "name": "python3"
  },
  "language_info": {
   "codemirror_mode": {
    "name": "ipython",
    "version": 3
   },
   "file_extension": ".py",
   "mimetype": "text/x-python",
   "name": "python",
   "nbconvert_exporter": "python",
   "pygments_lexer": "ipython3",
   "version": "3.13.5"
  }
 },
 "nbformat": 4,
 "nbformat_minor": 5
}
